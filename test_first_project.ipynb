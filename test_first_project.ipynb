{
  "nbformat": 4,
  "nbformat_minor": 0,
  "metadata": {
    "colab": {
      "name": "test_first_project.ipynb",
      "provenance": [],
      "authorship_tag": "ABX9TyMdNgirc14TgQyVdKDAN2nM",
      "include_colab_link": true
    },
    "kernelspec": {
      "name": "python3",
      "display_name": "Python 3"
    },
    "language_info": {
      "name": "python"
    }
  },
  "cells": [
    {
      "cell_type": "markdown",
      "metadata": {
        "id": "view-in-github",
        "colab_type": "text"
      },
      "source": [
        "<a href=\"https://colab.research.google.com/github/bstcpext/test-colab/blob/main/test_first_project.ipynb\" target=\"_parent\"><img src=\"https://colab.research.google.com/assets/colab-badge.svg\" alt=\"Open In Colab\"/></a>"
      ]
    },
    {
      "cell_type": "code",
      "execution_count": 14,
      "metadata": {
        "colab": {
          "base_uri": "https://localhost:8080/",
          "height": 321
        },
        "id": "EJ1jiSwQxeTf",
        "outputId": "d089b26c-b54e-4b87-c4bf-c1ae649f2820"
      },
      "outputs": [
        {
          "output_type": "stream",
          "name": "stderr",
          "text": [
            "E\n",
            "======================================================================\n",
            "ERROR: /root/ (unittest.loader._FailedTest)\n",
            "----------------------------------------------------------------------\n",
            "AttributeError: module '__main__' has no attribute '/root/'\n",
            "\n",
            "----------------------------------------------------------------------\n",
            "Ran 1 test in 0.002s\n",
            "\n",
            "FAILED (errors=1)\n"
          ]
        },
        {
          "output_type": "error",
          "ename": "SystemExit",
          "evalue": "ignored",
          "traceback": [
            "An exception has occurred, use %tb to see the full traceback.\n",
            "\u001b[0;31mSystemExit\u001b[0m\u001b[0;31m:\u001b[0m True\n"
          ]
        },
        {
          "output_type": "stream",
          "name": "stderr",
          "text": [
            "/usr/local/lib/python3.7/dist-packages/IPython/core/interactiveshell.py:2890: UserWarning: To exit: use 'exit', 'quit', or Ctrl-D.\n",
            "  warn(\"To exit: use 'exit', 'quit', or Ctrl-D.\", stacklevel=1)\n"
          ]
        }
      ],
      "source": [
        "import unittest\n",
        "!pip install kora -q\n",
        "from kora import drive\n",
        "drive.link_nbs()\n",
        "from first_project import avg \n",
        "\n",
        "\n",
        "class EasyTestCase(unittest.TestCase):\n",
        "    def test_easy_input(self):\n",
        "        self.assertEqual(avg(1, 2, 3, 4))\n",
        "    \n",
        "    def test_easy_input_two(self):\n",
        "        self.assertEqual(avg(10, 10, 10, 10, 10), 10)\n",
        "\n",
        "\n",
        "class MediumTestCase(unittest.TestCase):\n",
        "    def test_medium_input(self):\n",
        "        with self.assertRaises(TypeError):\n",
        "            self.assertEqual(avg(1, 2, 3, \"Bruce\"), 2)\n",
        "\n",
        "    def test_medium_input_two(self):\n",
        "        with self.assertRaises(TypeError):\n",
        "            self.assertEqual(avg(10, 10, 10, 10, \"10\"), 10)\n",
        "\n",
        "\n",
        "class HardTestCase(unittest.TestCase):\n",
        "    def test_hard_input(self):\n",
        "        with self.assertRaises(TypeError):\n",
        "            self.assertEqual(avg(1, 2, 3, None), 2)\n",
        "\n",
        "    def test_hard_input_two(self):\n",
        "        with self.assertRaises(TypeError):\n",
        "            self.assertEqual(avg(10, 10, 10, 10, float), 10)\n",
        "\n",
        "    def test_hard_input_three(self):\n",
        "        with self.assertRaises(TypeError):\n",
        "            self.assertEqual(avg(10, 10, 10, 10, frozenset), 10)\n",
        "    \n",
        "    def test_hard_input_four(self):\n",
        "        with self.assertRaises(TypeError):\n",
        "            self.assertEqual(avg(10, 10, 10, 10, set), 10)\n",
        "\n",
        "if __name__ == '__main__':\n",
        "  unittest.main()\n"
      ]
    },
    {
      "cell_type": "code",
      "source": [
        ""
      ],
      "metadata": {
        "id": "tZEwdgZH_voi"
      },
      "execution_count": null,
      "outputs": []
    }
  ]
}