{
  "nbformat": 4,
  "nbformat_minor": 0,
  "metadata": {
    "colab": {
      "name": "test_first_project.ipynb",
      "provenance": [],
      "authorship_tag": "ABX9TyNw1RkhHa1wqJ6QhiBo4lgp",
      "include_colab_link": true
    },
    "kernelspec": {
      "name": "python3",
      "display_name": "Python 3"
    },
    "language_info": {
      "name": "python"
    }
  },
  "cells": [
    {
      "cell_type": "markdown",
      "metadata": {
        "id": "view-in-github",
        "colab_type": "text"
      },
      "source": [
        "<a href=\"https://colab.research.google.com/github/bstcpext/test-colab/blob/main/test_first_project.ipynb\" target=\"_parent\"><img src=\"https://colab.research.google.com/assets/colab-badge.svg\" alt=\"Open In Colab\"/></a>"
      ]
    },
    {
      "cell_type": "code",
      "execution_count": 11,
      "metadata": {
        "colab": {
          "base_uri": "https://localhost:8080/"
        },
        "id": "EJ1jiSwQxeTf",
        "outputId": "427efac2-3ca5-456f-cd8b-7f5b710825e3"
      },
      "outputs": [
        {
          "output_type": "stream",
          "name": "stderr",
          "text": [
            "........\n",
            "----------------------------------------------------------------------\n",
            "Ran 8 tests in 0.013s\n",
            "\n",
            "OK\n"
          ]
        }
      ],
      "source": [
        "import unittest\n",
        "!pip install kora -q\n",
        "from kora import drive\n",
        "drive.link_nbs()\n",
        "from first_project import avg \n",
        "\n",
        "\n",
        "class EasyTestCase(unittest.TestCase):\n",
        "    def test_easy_input(self):\n",
        "        self.assertEqual(avg(1, 2, 3, 4, 5), 3)\n",
        "    \n",
        "    def test_easy_input_two(self):\n",
        "        self.assertEqual(avg(10, 10, 10, 10, 10), 10)\n",
        "\n",
        "\n",
        "class MediumTestCase(unittest.TestCase):\n",
        "    def test_medium_input(self):\n",
        "        with self.assertRaises(TypeError):\n",
        "            self.assertEqual(avg(1, 2, 3, \"Bruce\"), 2)\n",
        "\n",
        "    def test_medium_input_two(self):\n",
        "        with self.assertRaises(TypeError):\n",
        "            self.assertEqual(avg(10, 10, 10, 10, \"10\"), 10)\n",
        "\n",
        "\n",
        "class HardTestCase(unittest.TestCase):\n",
        "    def test_hard_input(self):\n",
        "        with self.assertRaises(TypeError):\n",
        "            self.assertEqual(avg(1, 2, 3, None), 2)\n",
        "\n",
        "    def test_hard_input_two(self):\n",
        "        with self.assertRaises(TypeError):\n",
        "            self.assertEqual(avg(10, 10, 10, 10, float), 10)\n",
        "\n",
        "    def test_hard_input_three(self):\n",
        "        with self.assertRaises(TypeError):\n",
        "            self.assertEqual(avg(10, 10, 10, 10, frozenset), 10)\n",
        "    \n",
        "    def test_hard_input_four(self):\n",
        "        with self.assertRaises(TypeError):\n",
        "            self.assertEqual(avg(10, 10, 10, 10, set), 10)\n",
        "\n",
        "\n",
        "if __name__ == '__main__':\n",
        "    unittest.main(argv=['first-arg-is-ignored'], exit=False)\n"
      ]
    },
    {
      "cell_type": "code",
      "source": [
        ""
      ],
      "metadata": {
        "id": "tZEwdgZH_voi"
      },
      "execution_count": null,
      "outputs": []
    }
  ]
}