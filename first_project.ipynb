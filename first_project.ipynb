{
  "nbformat": 4,
  "nbformat_minor": 0,
  "metadata": {
    "colab": {
      "name": "first_project.ipynb",
      "provenance": [],
      "collapsed_sections": [],
      "authorship_tag": "ABX9TyNYXl5DJUrfhwsjDsTPSWTn",
      "include_colab_link": true
    },
    "kernelspec": {
      "name": "python3",
      "display_name": "Python 3"
    },
    "language_info": {
      "name": "python"
    }
  },
  "cells": [
    {
      "cell_type": "markdown",
      "metadata": {
        "id": "view-in-github",
        "colab_type": "text"
      },
      "source": [
        "<a href=\"https://colab.research.google.com/github/bstcpext/test-colab/blob/main/first_project.ipynb\" target=\"_parent\"><img src=\"https://colab.research.google.com/assets/colab-badge.svg\" alt=\"Open In Colab\"/></a>"
      ]
    },
    {
      "cell_type": "markdown",
      "source": [
        "'''\n",
        "Easy: ensures that the program run correctly given the corret input.\n",
        "\n",
        "Medium: ensures that the program run correcly given the wrong input.\n",
        "\n",
        "Hard: ensures that the program run correcly fiven any kind of input.\n",
        "\n",
        "'''"
      ],
      "metadata": {
        "id": "HKsWaxWjcKr_"
      }
    },
    {
      "cell_type": "code",
      "source": [
        "def avg(*list_numbers) -> float:\n",
        "    total = 0\n",
        "    for num in list_numbers:\n",
        "        if isinstance(num, (int, float)):\n",
        "            total += num\n",
        "        else:\n",
        "            raise TypeError(\"Wrong input data. Please Make sure all entries are numbers\")\n",
        "    return total / len(list_numbers)\n",
        "\n",
        "  \n",
        "  \n",
        "# print(avg(1, 2, 3, 4, 5, \"Bruce\"))"
      ],
      "metadata": {
        "id": "-IQSe0c3c-k_"
      },
      "execution_count": null,
      "outputs": []
    },
    {
      "cell_type": "code",
      "execution_count": null,
      "metadata": {
        "colab": {
          "base_uri": "https://localhost:8080/"
        },
        "id": "N1UfuHTHbw3G",
        "outputId": "6e9d2203-ab47-4837-f849-a9b6b183659d"
      },
      "outputs": [
        {
          "output_type": "stream",
          "name": "stdout",
          "text": [
            "2.3333333333333335\n"
          ]
        }
      ],
      "source": [
        "print(avg(1, 2, 4))"
      ]
    },
    {
      "cell_type": "code",
      "source": [
        ""
      ],
      "metadata": {
        "id": "lZFiE9Fcfu8_"
      },
      "execution_count": null,
      "outputs": []
    }
  ]
}