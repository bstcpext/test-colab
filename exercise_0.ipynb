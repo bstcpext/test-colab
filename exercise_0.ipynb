{
  "nbformat": 4,
  "nbformat_minor": 0,
  "metadata": {
    "colab": {
      "name": "exercise-0.ipynb",
      "provenance": [],
      "authorship_tag": "ABX9TyMC807XPN07+BH5/Rfe+1I1",
      "include_colab_link": true
    },
    "kernelspec": {
      "name": "python3",
      "display_name": "Python 3"
    },
    "language_info": {
      "name": "python"
    }
  },
  "cells": [
    {
      "cell_type": "markdown",
      "metadata": {
        "id": "view-in-github",
        "colab_type": "text"
      },
      "source": [
        "<a href=\"https://colab.research.google.com/github/bstcpext/test-colab/blob/main/exercise_0.ipynb\" target=\"_parent\"><img src=\"https://colab.research.google.com/assets/colab-badge.svg\" alt=\"Open In Colab\"/></a>"
      ]
    },
    {
      "cell_type": "code",
      "execution_count": 1,
      "metadata": {
        "id": "v8vbqnsQTaxn"
      },
      "outputs": [],
      "source": [
        "import sys"
      ]
    },
    {
      "cell_type": "code",
      "source": [
        "dir(sys)"
      ],
      "metadata": {
        "colab": {
          "base_uri": "https://localhost:8080/"
        },
        "id": "z79Qyw6sToSS",
        "outputId": "3fcbae6a-eb1e-4b75-cfd3-ed7aad06aa70"
      },
      "execution_count": 2,
      "outputs": [
        {
          "output_type": "execute_result",
          "data": {
            "text/plain": [
              "['__breakpointhook__',\n",
              " '__displayhook__',\n",
              " '__doc__',\n",
              " '__excepthook__',\n",
              " '__interactivehook__',\n",
              " '__loader__',\n",
              " '__name__',\n",
              " '__package__',\n",
              " '__spec__',\n",
              " '__stderr__',\n",
              " '__stdin__',\n",
              " '__stdout__',\n",
              " '_clear_type_cache',\n",
              " '_current_frames',\n",
              " '_debugmallocstats',\n",
              " '_framework',\n",
              " '_getframe',\n",
              " '_git',\n",
              " '_home',\n",
              " '_xoptions',\n",
              " 'abiflags',\n",
              " 'api_version',\n",
              " 'argv',\n",
              " 'base_exec_prefix',\n",
              " 'base_prefix',\n",
              " 'breakpoint',\n",
              " 'breakpointhook',\n",
              " 'builtin_module_names',\n",
              " 'byteorder',\n",
              " 'call_tracing',\n",
              " 'callstats',\n",
              " 'copyright',\n",
              " 'displayhook',\n",
              " 'dont_write_bytecode',\n",
              " 'exc_info',\n",
              " 'excepthook',\n",
              " 'exec_prefix',\n",
              " 'executable',\n",
              " 'exit',\n",
              " 'flags',\n",
              " 'float_info',\n",
              " 'float_repr_style',\n",
              " 'get_asyncgen_hooks',\n",
              " 'get_coroutine_origin_tracking_depth',\n",
              " 'get_coroutine_wrapper',\n",
              " 'getallocatedblocks',\n",
              " 'getcheckinterval',\n",
              " 'getdefaultencoding',\n",
              " 'getdlopenflags',\n",
              " 'getfilesystemencodeerrors',\n",
              " 'getfilesystemencoding',\n",
              " 'getprofile',\n",
              " 'getrecursionlimit',\n",
              " 'getrefcount',\n",
              " 'getsizeof',\n",
              " 'getswitchinterval',\n",
              " 'gettrace',\n",
              " 'hash_info',\n",
              " 'hexversion',\n",
              " 'implementation',\n",
              " 'int_info',\n",
              " 'intern',\n",
              " 'is_finalizing',\n",
              " 'maxsize',\n",
              " 'maxunicode',\n",
              " 'meta_path',\n",
              " 'modules',\n",
              " 'path',\n",
              " 'path_hooks',\n",
              " 'path_importer_cache',\n",
              " 'platform',\n",
              " 'prefix',\n",
              " 'ps1',\n",
              " 'ps2',\n",
              " 'ps3',\n",
              " 'set_asyncgen_hooks',\n",
              " 'set_coroutine_origin_tracking_depth',\n",
              " 'set_coroutine_wrapper',\n",
              " 'setcheckinterval',\n",
              " 'setdlopenflags',\n",
              " 'setprofile',\n",
              " 'setrecursionlimit',\n",
              " 'setswitchinterval',\n",
              " 'settrace',\n",
              " 'stderr',\n",
              " 'stdin',\n",
              " 'stdout',\n",
              " 'thread_info',\n",
              " 'version',\n",
              " 'version_info',\n",
              " 'warnoptions']"
            ]
          },
          "metadata": {},
          "execution_count": 2
        }
      ]
    },
    {
      "cell_type": "code",
      "source": [
        "print(sys.version.split()[0])"
      ],
      "metadata": {
        "colab": {
          "base_uri": "https://localhost:8080/"
        },
        "id": "I_KSHutcTvHZ",
        "outputId": "500b0651-2cdb-4f94-d0a0-5888ee91947d"
      },
      "execution_count": 4,
      "outputs": [
        {
          "output_type": "stream",
          "name": "stdout",
          "text": [
            "3.7.12\n"
          ]
        }
      ]
    },
    {
      "cell_type": "code",
      "source": [
        ""
      ],
      "metadata": {
        "id": "SGLLfNiuT1Q_"
      },
      "execution_count": null,
      "outputs": []
    }
  ]
}