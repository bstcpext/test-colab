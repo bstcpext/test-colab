{
  "nbformat": 4,
  "nbformat_minor": 0,
  "metadata": {
    "colab": {
      "name": "intro.ipynb",
      "provenance": [],
      "collapsed_sections": [],
      "authorship_tag": "ABX9TyOSqHtHcRsH4Dmvp9T2cFgx",
      "include_colab_link": true
    },
    "kernelspec": {
      "name": "python3",
      "display_name": "Python 3"
    },
    "language_info": {
      "name": "python"
    }
  },
  "cells": [
    {
      "cell_type": "markdown",
      "metadata": {
        "id": "view-in-github",
        "colab_type": "text"
      },
      "source": [
        "<a href=\"https://colab.research.google.com/github/bstcpext/test-colab/blob/main/test_challenge.ipynb\" target=\"_parent\"><img src=\"https://colab.research.google.com/assets/colab-badge.svg\" alt=\"Open In Colab\"/></a>"
      ]
    },
    {
      "cell_type": "code",
      "execution_count": null,
      "metadata": {
        "colab": {
          "base_uri": "https://localhost:8080/"
        },
        "id": "ghc1q3MQen-k",
        "outputId": "785d1a32-339a-4176-9411-abdc5d404ab7"
      },
      "outputs": [
        {
          "output_type": "stream",
          "name": "stdout",
          "text": [
            "Hello world\n"
          ]
        }
      ],
      "source": [
        "import unittest\n",
        "!pip install kora -q\n",
        "from kora import drive\n",
        "drive.link_nbs()\n",
        "\n",
        "# add intermal function/module on the next line\n",
        "# from first_project import avg\n",
        "\n",
        "\n",
        "# type code here\n",
        "import unittest\n",
        "from challenge import counter\n",
        "\n",
        "\n",
        "class EasyTestCase(unittest.TestCase):\n",
        "    def test_easy_input(self):\n",
        "        # Todo: make sure that your program returns 2 given the string 'Mo'\n",
        "        pass\n",
        "\n",
        "    def test_easy_input_two(self):\n",
        "        # Todo: make sure that your program returns 8 given the string 'Mohammad'\n",
        "        pass\n",
        "\n",
        "\n",
        "class MediumTestCase(unittest.TestCase):\n",
        "    def test_medium_input(self):\n",
        "        # Todo: make sure that the program raises an exception whenever there is any non-english charts. Ex. !@#$%^.\n",
        "        pass\n",
        "\n",
        "    def test_medium_input_two(self):\n",
        "        # Todo: make sure that your program does not count paces. It should only count english alpha.\n",
        "        pass\n",
        "\n",
        "\n",
        "class HardTestCase(unittest.TestCase):\n",
        "    def test_hard_input(self):\n",
        "        # Todo: make sure that the program raises an exception whenever an empty string is given.\n",
        "        pass\n",
        "\n",
        "    def test_hard_input_two(self):\n",
        "        # Todo: make sure that your program does not accept a None input.\n",
        "        pass\n",
        "\n",
        "\n",
        "\n",
        "if __name__ == '__main__':\n",
        "    unittest.main(argv=['first-arg-is-ignored'], exit=False)"
      ]
    },
    {
      "cell_type": "code",
      "source": [
        ""
      ],
      "metadata": {
        "id": "l9sIU8LiFDwS"
      },
      "execution_count": null,
      "outputs": []
    }
  ]
}