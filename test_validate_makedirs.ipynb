{
  "nbformat": 4,
  "nbformat_minor": 0,
  "metadata": {
    "colab": {
      "name": "Untitled0.ipynb",
      "provenance": [],
      "authorship_tag": "ABX9TyMZUEyYRH0m7gWQBNRnhmyO",
      "include_colab_link": true
    },
    "kernelspec": {
      "name": "python3",
      "display_name": "Python 3"
    },
    "language_info": {
      "name": "python"
    }
  },
  "cells": [
    {
      "cell_type": "markdown",
      "metadata": {
        "id": "view-in-github",
        "colab_type": "text"
      },
      "source": [
        "<a href=\"https://colab.research.google.com/github/bstcpext/test-colab/blob/main/test_validate_makedirs.ipynb\" target=\"_parent\"><img src=\"https://colab.research.google.com/assets/colab-badge.svg\" alt=\"Open In Colab\"/></a>"
      ]
    },
    {
      "cell_type": "code",
      "execution_count": null,
      "metadata": {
        "id": "6S6D_rv_8MlA"
      },
      "outputs": [],
      "source": [
        "\n",
        "import unittest\n",
        "import unittest\n",
        "!pip install kora -q\n",
        "from kora import drive\n",
        "drive.link_nbs()\n",
        "from validate_makedirs import checkmakedirs\n",
        "\n",
        "class EasyTestCase(unittest.TestCase):\n",
        "\n",
        "    def setUp(self):\n",
        "        pass\n",
        "\n",
        "    def test_easy_input(self):\n",
        "        pass\n",
        "\n",
        "    def test_easy_input_two(self):\n",
        "        pass\n",
        "\n",
        "    def tearDown(self):\n",
        "        pass\n",
        "\n",
        "\n",
        "\n",
        "if __name__ == '__main__':\n",
        "    unittest.main(argv=['first-arg-is-ignored'], exit=False)\n"
      ]
    }
  ]
}