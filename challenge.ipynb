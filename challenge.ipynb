{
  "nbformat": 4,
  "nbformat_minor": 0,
  "metadata": {
    "colab": {
      "name": "Untitled1.ipynb",
      "provenance": [],
      "authorship_tag": "ABX9TyPypvv7BVF6WJTuo1wBGD9n",
      "include_colab_link": true
    },
    "kernelspec": {
      "name": "python3",
      "display_name": "Python 3"
    },
    "language_info": {
      "name": "python"
    }
  },
  "cells": [
    {
      "cell_type": "markdown",
      "metadata": {
        "id": "view-in-github",
        "colab_type": "text"
      },
      "source": [
        "<a href=\"https://colab.research.google.com/github/bstcpext/test-colab/blob/main/challenge.ipynb\" target=\"_parent\"><img src=\"https://colab.research.google.com/assets/colab-badge.svg\" alt=\"Open In Colab\"/></a>"
      ]
    },
    {
      "cell_type": "code",
      "execution_count": null,
      "metadata": {
        "id": "IvhbylwktdV-"
      },
      "outputs": [],
      "source": [
        "\"\"\"Coding Challenge Skeleton #1\n",
        "This counter function purpose is to count how many english letters does your name contain.\n",
        "After writing your tests, develop the counter function as needed to pass all your tests.\n",
        "\"\"\"\n",
        "\n",
        "\n",
        "def counter(name):\n",
        "    # Todo: implement me\n",
        "    return len(name)\n"
      ]
    }
  ]
}