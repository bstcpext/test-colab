{
  "nbformat": 4,
  "nbformat_minor": 0,
  "metadata": {
    "colab": {
      "name": "intro.ipynb",
      "provenance": [],
      "collapsed_sections": [],
      "authorship_tag": "ABX9TyMdrWjpaM8WO0wVahViYoj7",
      "include_colab_link": true
    },
    "kernelspec": {
      "name": "python3",
      "display_name": "Python 3"
    },
    "language_info": {
      "name": "python"
    }
  },
  "cells": [
    {
      "cell_type": "markdown",
      "metadata": {
        "id": "view-in-github",
        "colab_type": "text"
      },
      "source": [
        "<a href=\"https://colab.research.google.com/github/bstcpext/test-colab/blob/main/second_project.ipynb\" target=\"_parent\"><img src=\"https://colab.research.google.com/assets/colab-badge.svg\" alt=\"Open In Colab\"/></a>"
      ]
    },
    {
      "cell_type": "code",
      "execution_count": null,
      "metadata": {
        "id": "ghc1q3MQen-k"
      },
      "outputs": [],
      "source": [
        "\n",
        "class Kounter:\n",
        "    def __int__(self):\n",
        "        self.value = 0\n",
        "\n",
        "    def add(self):\n",
        "        self._value += 1\n",
        "\n",
        "    def remove(self):\n",
        "        self._value -= 1\n",
        "\n",
        "    def clear(self):\n",
        "        self._value = 0\n",
        "\n",
        "    def get_value(self):\n",
        "        return self._value\n",
        "\n"
      ]
    },
    {
      "cell_type": "code",
      "source": [
        ""
      ],
      "metadata": {
        "id": "l9sIU8LiFDwS"
      },
      "execution_count": null,
      "outputs": []
    }
  ]
}