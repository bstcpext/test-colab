{
  "nbformat": 4,
  "nbformat_minor": 0,
  "metadata": {
    "colab": {
      "name": "validate_makedirs.ipynb",
      "provenance": [],
      "authorship_tag": "ABX9TyPGfBzQpTQkhlZ19GPQCyRi",
      "include_colab_link": true
    },
    "kernelspec": {
      "name": "python3",
      "display_name": "Python 3"
    },
    "language_info": {
      "name": "python"
    }
  },
  "cells": [
    {
      "cell_type": "markdown",
      "metadata": {
        "id": "view-in-github",
        "colab_type": "text"
      },
      "source": [
        "<a href=\"https://colab.research.google.com/github/bstcpext/test-colab/blob/main/validate_makedirs.ipynb\" target=\"_parent\"><img src=\"https://colab.research.google.com/assets/colab-badge.svg\" alt=\"Open In Colab\"/></a>"
      ]
    },
    {
      "cell_type": "code",
      "execution_count": null,
      "metadata": {
        "id": "lSZG9teEzGWf"
      },
      "outputs": [],
      "source": [
        "# Python program to explain os.makedirs() method\n",
        "\n",
        "# importing os module\n",
        "import os\n",
        "\n",
        "# Leaf directory\n",
        "directory = \"ihritik\"\n",
        "\n",
        "# Parent Directories\n",
        "parent_dir = \"/home/User/Documents/GeeksForGeeks/Authors\"\n",
        "\n",
        "# Path\n",
        "path = os.path.join(parent_dir, directory)\n",
        "\n",
        "# Create the directory\n",
        "# 'ihritik'\n",
        "os.makedirs(path)\n",
        "print(\"Directory '%s' created\" %directory)\n",
        "\n",
        "# Directory 'GeeksForGeeks' and 'Authors' will\n",
        "# be created too\n",
        "# if it does not exists\n",
        "\n",
        "\n",
        "\n",
        "# Leaf directory\n",
        "directory = \"c\"\n",
        "\n",
        "# Parent Directories\n",
        "parent_dir = \"/home/User/Documents/GeeksforGeeks/a/b\"\n",
        "\n",
        "# mode\n",
        "mode = 0o666\n",
        "\n",
        "path = os.path.join(parent_dir, directory)\n",
        "\n",
        "# Create the directory\n",
        "# 'c'\n",
        "\n",
        "os.makedirs(path, mode)\n",
        "print(\"Directory '%s' created\" %directory)\n",
        "\n",
        "\n",
        "# 'GeeksForGeeks', 'a', and 'b'\n",
        "# will also be created if\n",
        "# it does not exists\n",
        "\n",
        "# If any of the intermediate level\n",
        "# directory is missing\n",
        "# os.makedirs() method will\n",
        "# create them\n",
        "\n",
        "# os.makedirs() method can be\n",
        "# used to create a directory tree\n"
      ]
    }
  ]
}