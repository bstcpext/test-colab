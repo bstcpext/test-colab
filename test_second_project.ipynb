{
  "nbformat": 4,
  "nbformat_minor": 0,
  "metadata": {
    "colab": {
      "name": "intro.ipynb",
      "provenance": [],
      "collapsed_sections": [],
      "authorship_tag": "ABX9TyOVcfOMZLQECdTkvbKtrDKw",
      "include_colab_link": true
    },
    "kernelspec": {
      "name": "python3",
      "display_name": "Python 3"
    },
    "language_info": {
      "name": "python"
    }
  },
  "cells": [
    {
      "cell_type": "markdown",
      "metadata": {
        "id": "view-in-github",
        "colab_type": "text"
      },
      "source": [
        "<a href=\"https://colab.research.google.com/github/bstcpext/test-colab/blob/main/test_second_project.ipynb\" target=\"_parent\"><img src=\"https://colab.research.google.com/assets/colab-badge.svg\" alt=\"Open In Colab\"/></a>"
      ]
    },
    {
      "cell_type": "code",
      "execution_count": null,
      "metadata": {
        "id": "ghc1q3MQen-k"
      },
      "outputs": [],
      "source": [
        "import unittest\n",
        "!pip install kora -q\n",
        "from kora import drive\n",
        "drive.link_nbs()\n",
        "\n",
        "from second_project import Counter\n",
        "\n",
        "class EasyTestCase(unittest.TestCase):\n",
        "\n",
        "    def setUp(self):\n",
        "        self.counter = Counter()\n",
        "\n",
        "    def test_easy_input(self):\n",
        "        pass\n",
        "\n",
        "    def test_easy_input_two(self):\n",
        "        pass\n",
        "\n",
        "    def tearDown(self):\n",
        "        self.counter = None\n",
        "  \n",
        "\n",
        "if __name__ == '__main__':\n",
        "    unittest.main(argv=['first-arg-is-ignored'], exit=False)"
      ]
    },
    {
      "cell_type": "code",
      "source": [
        ""
      ],
      "metadata": {
        "id": "l9sIU8LiFDwS"
      },
      "execution_count": null,
      "outputs": []
    }
  ]
}